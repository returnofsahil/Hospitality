{
 "cells": [
  {
   "cell_type": "code",
   "execution_count": 1,
   "metadata": {},
   "outputs": [],
   "source": [
    "import pandas as pd\n",
    "import numpy as np \n",
    "import matplotlib.pyplot  as plt\n",
    "import seaborn as sns"
   ]
  },
  {
   "cell_type": "code",
   "execution_count": 2,
   "metadata": {},
   "outputs": [],
   "source": [
    "df_nfc = pd.read_csv('https://raw.githubusercontent.com/som-choudhary/Airbnb/main/Airbnb_new.csv')"
   ]
  },
  {
   "cell_type": "markdown",
   "metadata": {},
   "source": [
    "### Reading , becoming familiar with the data and cleaning it"
   ]
  },
  {
   "cell_type": "code",
   "execution_count": 3,
   "metadata": {},
   "outputs": [
    {
     "data": {
      "text/html": [
       "<div>\n",
       "<style scoped>\n",
       "    .dataframe tbody tr th:only-of-type {\n",
       "        vertical-align: middle;\n",
       "    }\n",
       "\n",
       "    .dataframe tbody tr th {\n",
       "        vertical-align: top;\n",
       "    }\n",
       "\n",
       "    .dataframe thead th {\n",
       "        text-align: right;\n",
       "    }\n",
       "</style>\n",
       "<table border=\"1\" class=\"dataframe\">\n",
       "  <thead>\n",
       "    <tr style=\"text-align: right;\">\n",
       "      <th></th>\n",
       "      <th>Unnamed: 0</th>\n",
       "      <th>id</th>\n",
       "      <th>name</th>\n",
       "      <th>host_id</th>\n",
       "      <th>host_name</th>\n",
       "      <th>borough</th>\n",
       "      <th>neighbourhood</th>\n",
       "      <th>latitude</th>\n",
       "      <th>longitude</th>\n",
       "      <th>room_type</th>\n",
       "      <th>price</th>\n",
       "      <th>minimum_nights</th>\n",
       "      <th>number_of_reviews</th>\n",
       "      <th>last_review</th>\n",
       "      <th>reviews_per_month</th>\n",
       "      <th>calculated_host_listings_count</th>\n",
       "      <th>availability_365</th>\n",
       "    </tr>\n",
       "  </thead>\n",
       "  <tbody>\n",
       "    <tr>\n",
       "      <th>0</th>\n",
       "      <td>0</td>\n",
       "      <td>2539</td>\n",
       "      <td>Clean &amp; quiet apt home by the park</td>\n",
       "      <td>2787</td>\n",
       "      <td>John</td>\n",
       "      <td>Brooklyn</td>\n",
       "      <td>kensington</td>\n",
       "      <td>40.64749</td>\n",
       "      <td>-73.97237</td>\n",
       "      <td>Private room</td>\n",
       "      <td>149.0</td>\n",
       "      <td>1.0</td>\n",
       "      <td>9.0</td>\n",
       "      <td>10/19/18</td>\n",
       "      <td>0.21</td>\n",
       "      <td>6.0</td>\n",
       "      <td>365.0</td>\n",
       "    </tr>\n",
       "    <tr>\n",
       "      <th>1</th>\n",
       "      <td>1</td>\n",
       "      <td>2595</td>\n",
       "      <td>Skylit Midtown Castle</td>\n",
       "      <td>2845</td>\n",
       "      <td>Jennifer</td>\n",
       "      <td>Manhattan</td>\n",
       "      <td>midtown</td>\n",
       "      <td>40.75362</td>\n",
       "      <td>-73.98377</td>\n",
       "      <td>Entire home/apt</td>\n",
       "      <td>225.0</td>\n",
       "      <td>1.0</td>\n",
       "      <td>NaN</td>\n",
       "      <td>5/21/19</td>\n",
       "      <td>0.38</td>\n",
       "      <td>2.0</td>\n",
       "      <td>NaN</td>\n",
       "    </tr>\n",
       "    <tr>\n",
       "      <th>2</th>\n",
       "      <td>2</td>\n",
       "      <td>3647</td>\n",
       "      <td>THE VILLAGE OF HARLEM....NEW YORK !</td>\n",
       "      <td>4632</td>\n",
       "      <td>Elisabeth</td>\n",
       "      <td>NaN</td>\n",
       "      <td>harlem</td>\n",
       "      <td>40.80902</td>\n",
       "      <td>-73.94190</td>\n",
       "      <td>Private room</td>\n",
       "      <td>150.0</td>\n",
       "      <td>3.0</td>\n",
       "      <td>0.0</td>\n",
       "      <td>NaN</td>\n",
       "      <td>NaN</td>\n",
       "      <td>1.0</td>\n",
       "      <td>365.0</td>\n",
       "    </tr>\n",
       "    <tr>\n",
       "      <th>3</th>\n",
       "      <td>3</td>\n",
       "      <td>3831</td>\n",
       "      <td>Cozy Entire Floor of Brownstone</td>\n",
       "      <td>4869</td>\n",
       "      <td>LisaRoxanne</td>\n",
       "      <td>Brooklyn</td>\n",
       "      <td>clinton hill</td>\n",
       "      <td>40.68514</td>\n",
       "      <td>-73.95976</td>\n",
       "      <td>Entire home/apt</td>\n",
       "      <td>89.0</td>\n",
       "      <td>1.0</td>\n",
       "      <td>270.0</td>\n",
       "      <td>07-05-2019</td>\n",
       "      <td>4.64</td>\n",
       "      <td>1.0</td>\n",
       "      <td>194.0</td>\n",
       "    </tr>\n",
       "    <tr>\n",
       "      <th>4</th>\n",
       "      <td>5</td>\n",
       "      <td>5099</td>\n",
       "      <td>Large Cozy 1 BR Apartment In Midtown East</td>\n",
       "      <td>7322</td>\n",
       "      <td>Chris</td>\n",
       "      <td>Manhattan</td>\n",
       "      <td>murray hill</td>\n",
       "      <td>40.74767</td>\n",
       "      <td>-73.97500</td>\n",
       "      <td>Entire home/apt</td>\n",
       "      <td>200.0</td>\n",
       "      <td>3.0</td>\n",
       "      <td>74.0</td>\n",
       "      <td>6/22/19</td>\n",
       "      <td>0.59</td>\n",
       "      <td>1.0</td>\n",
       "      <td>129.0</td>\n",
       "    </tr>\n",
       "  </tbody>\n",
       "</table>\n",
       "</div>"
      ],
      "text/plain": [
       "   Unnamed: 0    id                                       name  host_id  \\\n",
       "0           0  2539         Clean & quiet apt home by the park     2787   \n",
       "1           1  2595                      Skylit Midtown Castle     2845   \n",
       "2           2  3647        THE VILLAGE OF HARLEM....NEW YORK !     4632   \n",
       "3           3  3831            Cozy Entire Floor of Brownstone     4869   \n",
       "4           5  5099  Large Cozy 1 BR Apartment In Midtown East     7322   \n",
       "\n",
       "     host_name    borough neighbourhood  latitude  longitude        room_type  \\\n",
       "0         John   Brooklyn    kensington  40.64749  -73.97237     Private room   \n",
       "1     Jennifer  Manhattan       midtown  40.75362  -73.98377  Entire home/apt   \n",
       "2    Elisabeth        NaN        harlem  40.80902  -73.94190     Private room   \n",
       "3  LisaRoxanne   Brooklyn  clinton hill  40.68514  -73.95976  Entire home/apt   \n",
       "4        Chris  Manhattan   murray hill  40.74767  -73.97500  Entire home/apt   \n",
       "\n",
       "   price  minimum_nights  number_of_reviews last_review  reviews_per_month  \\\n",
       "0  149.0             1.0                9.0    10/19/18               0.21   \n",
       "1  225.0             1.0                NaN     5/21/19               0.38   \n",
       "2  150.0             3.0                0.0         NaN                NaN   \n",
       "3   89.0             1.0              270.0  07-05-2019               4.64   \n",
       "4  200.0             3.0               74.0     6/22/19               0.59   \n",
       "\n",
       "   calculated_host_listings_count  availability_365  \n",
       "0                             6.0             365.0  \n",
       "1                             2.0               NaN  \n",
       "2                             1.0             365.0  \n",
       "3                             1.0             194.0  \n",
       "4                             1.0             129.0  "
      ]
     },
     "execution_count": 3,
     "metadata": {},
     "output_type": "execute_result"
    }
   ],
   "source": [
    "df_nfc.head()"
   ]
  },
  {
   "cell_type": "code",
   "execution_count": 4,
   "metadata": {},
   "outputs": [
    {
     "name": "stdout",
     "output_type": "stream",
     "text": [
      "<class 'pandas.core.frame.DataFrame'>\n",
      "RangeIndex: 42638 entries, 0 to 42637\n",
      "Data columns (total 17 columns):\n",
      " #   Column                          Non-Null Count  Dtype  \n",
      "---  ------                          --------------  -----  \n",
      " 0   Unnamed: 0                      42638 non-null  int64  \n",
      " 1   id                              42638 non-null  int64  \n",
      " 2   name                            42624 non-null  object \n",
      " 3   host_id                         42638 non-null  int64  \n",
      " 4   host_name                       42582 non-null  object \n",
      " 5   borough                         42571 non-null  object \n",
      " 6   neighbourhood                   42638 non-null  object \n",
      " 7   latitude                        42607 non-null  float64\n",
      " 8   longitude                       42609 non-null  float64\n",
      " 9   room_type                       42552 non-null  object \n",
      " 10  price                           42602 non-null  float64\n",
      " 11  minimum_nights                  42604 non-null  float64\n",
      " 12  number_of_reviews               42613 non-null  float64\n",
      " 13  last_review                     33892 non-null  object \n",
      " 14  reviews_per_month               33902 non-null  float64\n",
      " 15  calculated_host_listings_count  42622 non-null  float64\n",
      " 16  availability_365                42596 non-null  float64\n",
      "dtypes: float64(8), int64(3), object(6)\n",
      "memory usage: 5.5+ MB\n"
     ]
    }
   ],
   "source": [
    "df_nfc.info()\n",
    "# on initial check all the data appears to be in correct order i.e. the data types are correct"
   ]
  },
  {
   "cell_type": "code",
   "execution_count": 5,
   "metadata": {},
   "outputs": [
    {
     "data": {
      "text/html": [
       "<div>\n",
       "<style scoped>\n",
       "    .dataframe tbody tr th:only-of-type {\n",
       "        vertical-align: middle;\n",
       "    }\n",
       "\n",
       "    .dataframe tbody tr th {\n",
       "        vertical-align: top;\n",
       "    }\n",
       "\n",
       "    .dataframe thead th {\n",
       "        text-align: right;\n",
       "    }\n",
       "</style>\n",
       "<table border=\"1\" class=\"dataframe\">\n",
       "  <thead>\n",
       "    <tr style=\"text-align: right;\">\n",
       "      <th></th>\n",
       "      <th>Unnamed: 0</th>\n",
       "      <th>id</th>\n",
       "      <th>host_id</th>\n",
       "      <th>latitude</th>\n",
       "      <th>longitude</th>\n",
       "      <th>price</th>\n",
       "      <th>minimum_nights</th>\n",
       "      <th>number_of_reviews</th>\n",
       "      <th>reviews_per_month</th>\n",
       "      <th>calculated_host_listings_count</th>\n",
       "      <th>availability_365</th>\n",
       "    </tr>\n",
       "  </thead>\n",
       "  <tbody>\n",
       "    <tr>\n",
       "      <th>count</th>\n",
       "      <td>42638.000000</td>\n",
       "      <td>4.263800e+04</td>\n",
       "      <td>4.263800e+04</td>\n",
       "      <td>42607.000000</td>\n",
       "      <td>42609.000000</td>\n",
       "      <td>42602.000000</td>\n",
       "      <td>42604.000000</td>\n",
       "      <td>42613.000000</td>\n",
       "      <td>33902.000000</td>\n",
       "      <td>42622.000000</td>\n",
       "      <td>42596.000000</td>\n",
       "    </tr>\n",
       "    <tr>\n",
       "      <th>mean</th>\n",
       "      <td>24323.437544</td>\n",
       "      <td>1.892386e+07</td>\n",
       "      <td>6.633856e+07</td>\n",
       "      <td>40.725488</td>\n",
       "      <td>-73.949830</td>\n",
       "      <td>148.516173</td>\n",
       "      <td>6.974298</td>\n",
       "      <td>23.045080</td>\n",
       "      <td>1.346574</td>\n",
       "      <td>6.840036</td>\n",
       "      <td>111.562447</td>\n",
       "    </tr>\n",
       "    <tr>\n",
       "      <th>std</th>\n",
       "      <td>14062.225405</td>\n",
       "      <td>1.094655e+07</td>\n",
       "      <td>7.755554e+07</td>\n",
       "      <td>0.054140</td>\n",
       "      <td>0.046089</td>\n",
       "      <td>235.828980</td>\n",
       "      <td>20.295628</td>\n",
       "      <td>44.411525</td>\n",
       "      <td>1.636901</td>\n",
       "      <td>32.246048</td>\n",
       "      <td>131.392817</td>\n",
       "    </tr>\n",
       "    <tr>\n",
       "      <th>min</th>\n",
       "      <td>0.000000</td>\n",
       "      <td>2.539000e+03</td>\n",
       "      <td>2.438000e+03</td>\n",
       "      <td>40.499790</td>\n",
       "      <td>-74.244420</td>\n",
       "      <td>0.000000</td>\n",
       "      <td>1.000000</td>\n",
       "      <td>0.000000</td>\n",
       "      <td>0.010000</td>\n",
       "      <td>1.000000</td>\n",
       "      <td>0.000000</td>\n",
       "    </tr>\n",
       "    <tr>\n",
       "      <th>25%</th>\n",
       "      <td>12117.250000</td>\n",
       "      <td>9.410163e+06</td>\n",
       "      <td>7.650650e+06</td>\n",
       "      <td>40.688225</td>\n",
       "      <td>-73.979220</td>\n",
       "      <td>65.000000</td>\n",
       "      <td>1.000000</td>\n",
       "      <td>1.000000</td>\n",
       "      <td>0.190000</td>\n",
       "      <td>1.000000</td>\n",
       "      <td>0.000000</td>\n",
       "    </tr>\n",
       "    <tr>\n",
       "      <th>50%</th>\n",
       "      <td>24300.500000</td>\n",
       "      <td>1.956904e+07</td>\n",
       "      <td>3.028359e+07</td>\n",
       "      <td>40.718130</td>\n",
       "      <td>-73.954370</td>\n",
       "      <td>100.000000</td>\n",
       "      <td>3.000000</td>\n",
       "      <td>5.000000</td>\n",
       "      <td>0.690000</td>\n",
       "      <td>1.000000</td>\n",
       "      <td>42.000000</td>\n",
       "    </tr>\n",
       "    <tr>\n",
       "      <th>75%</th>\n",
       "      <td>36444.500000</td>\n",
       "      <td>2.897789e+07</td>\n",
       "      <td>1.056342e+08</td>\n",
       "      <td>40.756690</td>\n",
       "      <td>-73.933800</td>\n",
       "      <td>174.000000</td>\n",
       "      <td>5.000000</td>\n",
       "      <td>23.000000</td>\n",
       "      <td>2.000000</td>\n",
       "      <td>2.000000</td>\n",
       "      <td>224.000000</td>\n",
       "    </tr>\n",
       "    <tr>\n",
       "      <th>max</th>\n",
       "      <td>48892.000000</td>\n",
       "      <td>3.648543e+07</td>\n",
       "      <td>2.743115e+08</td>\n",
       "      <td>40.904840</td>\n",
       "      <td>-73.712990</td>\n",
       "      <td>10000.000000</td>\n",
       "      <td>1250.000000</td>\n",
       "      <td>629.000000</td>\n",
       "      <td>20.940000</td>\n",
       "      <td>327.000000</td>\n",
       "      <td>365.000000</td>\n",
       "    </tr>\n",
       "  </tbody>\n",
       "</table>\n",
       "</div>"
      ],
      "text/plain": [
       "         Unnamed: 0            id       host_id      latitude     longitude  \\\n",
       "count  42638.000000  4.263800e+04  4.263800e+04  42607.000000  42609.000000   \n",
       "mean   24323.437544  1.892386e+07  6.633856e+07     40.725488    -73.949830   \n",
       "std    14062.225405  1.094655e+07  7.755554e+07      0.054140      0.046089   \n",
       "min        0.000000  2.539000e+03  2.438000e+03     40.499790    -74.244420   \n",
       "25%    12117.250000  9.410163e+06  7.650650e+06     40.688225    -73.979220   \n",
       "50%    24300.500000  1.956904e+07  3.028359e+07     40.718130    -73.954370   \n",
       "75%    36444.500000  2.897789e+07  1.056342e+08     40.756690    -73.933800   \n",
       "max    48892.000000  3.648543e+07  2.743115e+08     40.904840    -73.712990   \n",
       "\n",
       "              price  minimum_nights  number_of_reviews  reviews_per_month  \\\n",
       "count  42602.000000    42604.000000       42613.000000       33902.000000   \n",
       "mean     148.516173        6.974298          23.045080           1.346574   \n",
       "std      235.828980       20.295628          44.411525           1.636901   \n",
       "min        0.000000        1.000000           0.000000           0.010000   \n",
       "25%       65.000000        1.000000           1.000000           0.190000   \n",
       "50%      100.000000        3.000000           5.000000           0.690000   \n",
       "75%      174.000000        5.000000          23.000000           2.000000   \n",
       "max    10000.000000     1250.000000         629.000000          20.940000   \n",
       "\n",
       "       calculated_host_listings_count  availability_365  \n",
       "count                    42622.000000      42596.000000  \n",
       "mean                         6.840036        111.562447  \n",
       "std                         32.246048        131.392817  \n",
       "min                          1.000000          0.000000  \n",
       "25%                          1.000000          0.000000  \n",
       "50%                          1.000000         42.000000  \n",
       "75%                          2.000000        224.000000  \n",
       "max                        327.000000        365.000000  "
      ]
     },
     "execution_count": 5,
     "metadata": {},
     "output_type": "execute_result"
    }
   ],
   "source": [
    "df_nfc.describe()"
   ]
  },
  {
   "cell_type": "markdown",
   "metadata": {},
   "source": [
    "## Cleaning Data and finding out the null values and dropping columns where null is greater than 20%"
   ]
  },
  {
   "cell_type": "code",
   "execution_count": 6,
   "metadata": {},
   "outputs": [
    {
     "data": {
      "text/plain": [
       "Unnamed: 0                           0\n",
       "id                                   0\n",
       "name                                14\n",
       "host_id                              0\n",
       "host_name                           56\n",
       "borough                             67\n",
       "neighbourhood                        0\n",
       "latitude                            31\n",
       "longitude                           29\n",
       "room_type                           86\n",
       "price                               36\n",
       "minimum_nights                      34\n",
       "number_of_reviews                   25\n",
       "last_review                       8746\n",
       "reviews_per_month                 8736\n",
       "calculated_host_listings_count      16\n",
       "availability_365                    42\n",
       "dtype: int64"
      ]
     },
     "execution_count": 6,
     "metadata": {},
     "output_type": "execute_result"
    }
   ],
   "source": [
    "df_nfc.isna().sum()"
   ]
  },
  {
   "cell_type": "code",
   "execution_count": 7,
   "metadata": {},
   "outputs": [
    {
     "data": {
      "text/plain": [
       "Unnamed: 0                         0.000000\n",
       "id                                 0.000000\n",
       "name                               0.032835\n",
       "host_id                            0.000000\n",
       "host_name                          0.131338\n",
       "borough                            0.157137\n",
       "neighbourhood                      0.000000\n",
       "latitude                           0.072705\n",
       "longitude                          0.068014\n",
       "room_type                          0.201698\n",
       "price                              0.084432\n",
       "minimum_nights                     0.079741\n",
       "number_of_reviews                  0.058633\n",
       "last_review                       20.512219\n",
       "reviews_per_month                 20.488766\n",
       "calculated_host_listings_count     0.037525\n",
       "availability_365                   0.098504\n",
       "dtype: float64"
      ]
     },
     "execution_count": 7,
     "metadata": {},
     "output_type": "execute_result"
    }
   ],
   "source": [
    "# Finding out the percentage of null values\n",
    "df_nfc.isna().sum() *100 / len(df_nfc)\n",
    "# last review should be dropped and (reviews_per month maybe)"
   ]
  },
  {
   "cell_type": "code",
   "execution_count": 8,
   "metadata": {},
   "outputs": [
    {
     "data": {
      "text/plain": [
       "count    33902.000000\n",
       "mean         1.346574\n",
       "std          1.636901\n",
       "min          0.010000\n",
       "25%          0.190000\n",
       "50%          0.690000\n",
       "75%          2.000000\n",
       "max         20.940000\n",
       "Name: reviews_per_month, dtype: float64"
      ]
     },
     "execution_count": 8,
     "metadata": {},
     "output_type": "execute_result"
    }
   ],
   "source": [
    "df_nfc['reviews_per_month'].describe()"
   ]
  },
  {
   "cell_type": "code",
   "execution_count": 9,
   "metadata": {},
   "outputs": [],
   "source": [
    "# dropping reviews_per_month\n",
    "df_nfc.drop(['reviews_per_month','last_review'], axis=1 , inplace=True)"
   ]
  },
  {
   "cell_type": "code",
   "execution_count": 10,
   "metadata": {},
   "outputs": [
    {
     "data": {
      "text/plain": [
       "Unnamed: 0                         0\n",
       "id                                 0\n",
       "name                              14\n",
       "host_id                            0\n",
       "host_name                         56\n",
       "borough                           67\n",
       "neighbourhood                      0\n",
       "latitude                          31\n",
       "longitude                         29\n",
       "room_type                         86\n",
       "price                             36\n",
       "minimum_nights                    34\n",
       "number_of_reviews                 25\n",
       "calculated_host_listings_count    16\n",
       "availability_365                  42\n",
       "dtype: int64"
      ]
     },
     "execution_count": 10,
     "metadata": {},
     "output_type": "execute_result"
    }
   ],
   "source": [
    "# Cross checking\n",
    "df_nfc.isna().sum()"
   ]
  },
  {
   "cell_type": "code",
   "execution_count": 11,
   "metadata": {},
   "outputs": [],
   "source": [
    "df_nfc= df_nfc.drop(df_nfc[df_nfc['name'].isnull()].index)\n"
   ]
  },
  {
   "cell_type": "code",
   "execution_count": 12,
   "metadata": {},
   "outputs": [
    {
     "data": {
      "text/plain": [
       "Unnamed: 0                         0\n",
       "id                                 0\n",
       "name                               0\n",
       "host_id                            0\n",
       "host_name                         56\n",
       "borough                           67\n",
       "neighbourhood                      0\n",
       "latitude                          31\n",
       "longitude                         29\n",
       "room_type                         86\n",
       "price                             36\n",
       "minimum_nights                    34\n",
       "number_of_reviews                 25\n",
       "calculated_host_listings_count    16\n",
       "availability_365                  42\n",
       "dtype: int64"
      ]
     },
     "execution_count": 12,
     "metadata": {},
     "output_type": "execute_result"
    }
   ],
   "source": [
    "df_nfc.isna().sum()"
   ]
  },
  {
   "cell_type": "code",
   "execution_count": 13,
   "metadata": {},
   "outputs": [],
   "source": [
    "# removing where host_name , borough where they are null\n",
    "df_nfc = df_nfc.drop(df_nfc[df_nfc['host_name'].isnull()].index)\n",
    "df_nfc = df_nfc.drop(df_nfc[df_nfc['borough'].isnull()].index)\n",
    "# latitude and longitude also have to be removed where null are present\n",
    "df_nfc = df_nfc.drop(df_nfc[df_nfc['latitude'].isnull()].index)\n",
    "df_nfc = df_nfc.drop(df_nfc[df_nfc['longitude'].isnull()].index)"
   ]
  },
  {
   "cell_type": "code",
   "execution_count": 14,
   "metadata": {},
   "outputs": [
    {
     "data": {
      "text/plain": [
       "Unnamed: 0                         0\n",
       "id                                 0\n",
       "name                               0\n",
       "host_id                            0\n",
       "host_name                          0\n",
       "borough                            0\n",
       "neighbourhood                      0\n",
       "latitude                           0\n",
       "longitude                          0\n",
       "room_type                         66\n",
       "price                             23\n",
       "minimum_nights                    22\n",
       "number_of_reviews                 22\n",
       "calculated_host_listings_count    10\n",
       "availability_365                  35\n",
       "dtype: int64"
      ]
     },
     "execution_count": 14,
     "metadata": {},
     "output_type": "execute_result"
    }
   ],
   "source": [
    "df_nfc.isna().sum()"
   ]
  },
  {
   "cell_type": "code",
   "execution_count": 15,
   "metadata": {},
   "outputs": [
    {
     "data": {
      "text/plain": [
       "Entire home/apt    21703\n",
       "Private room       19739\n",
       "Shared room          950\n",
       "Name: room_type, dtype: int64"
      ]
     },
     "execution_count": 15,
     "metadata": {},
     "output_type": "execute_result"
    }
   ],
   "source": [
    "df_nfc['room_type'].value_counts()\n"
   ]
  },
  {
   "cell_type": "code",
   "execution_count": 16,
   "metadata": {},
   "outputs": [],
   "source": [
    "df_nfc['room_type'] = df_nfc['room_type'].fillna('Entire home/apt')"
   ]
  },
  {
   "cell_type": "code",
   "execution_count": 17,
   "metadata": {},
   "outputs": [
    {
     "data": {
      "text/plain": [
       "Unnamed: 0                         0\n",
       "id                                 0\n",
       "name                               0\n",
       "host_id                            0\n",
       "host_name                          0\n",
       "borough                            0\n",
       "neighbourhood                      0\n",
       "latitude                           0\n",
       "longitude                          0\n",
       "room_type                          0\n",
       "price                             23\n",
       "minimum_nights                    22\n",
       "number_of_reviews                 22\n",
       "calculated_host_listings_count    10\n",
       "availability_365                  35\n",
       "dtype: int64"
      ]
     },
     "execution_count": 17,
     "metadata": {},
     "output_type": "execute_result"
    }
   ],
   "source": [
    "# CROSS CHECK\n",
    "df_nfc.isna().sum()"
   ]
  },
  {
   "cell_type": "code",
   "execution_count": 18,
   "metadata": {},
   "outputs": [
    {
     "data": {
      "text/plain": [
       "count    42435.000000\n",
       "mean       148.575374\n",
       "std        236.184376\n",
       "min          0.000000\n",
       "25%         65.000000\n",
       "50%        100.000000\n",
       "75%        174.000000\n",
       "max      10000.000000\n",
       "Name: price, dtype: float64"
      ]
     },
     "execution_count": 18,
     "metadata": {},
     "output_type": "execute_result"
    }
   ],
   "source": [
    "df_nfc['price'].describe()\n",
    "# understandong the distrubution of price before  imputing the null values with mean or median"
   ]
  },
  {
   "cell_type": "code",
   "execution_count": 19,
   "metadata": {},
   "outputs": [
    {
     "data": {
      "image/png": "[encoded data removed]",
      "text/plain": [
       "<Figure size 640x480 with 1 Axes>"
      ]
     },
     "metadata": {},
     "output_type": "display_data"
    }
   ],
   "source": [
    "sns.boxplot(df_nfc['price'])\n",
    "plt.show()\n",
    "# median will be more suitable for the imputation as the outlier 10000 are less thus data will be less skewered"
   ]
  },
  {
   "cell_type": "code",
   "execution_count": 20,
   "metadata": {},
   "outputs": [],
   "source": [
    "df_nfc['price'] = df_nfc['price'].fillna(df_nfc['price'].median())"
   ]
  },
  {
   "cell_type": "code",
   "execution_count": 21,
   "metadata": {},
   "outputs": [
    {
     "data": {
      "text/plain": [
       "Unnamed: 0                         0\n",
       "id                                 0\n",
       "name                               0\n",
       "host_id                            0\n",
       "host_name                          0\n",
       "borough                            0\n",
       "neighbourhood                      0\n",
       "latitude                           0\n",
       "longitude                          0\n",
       "room_type                          0\n",
       "price                              0\n",
       "minimum_nights                    22\n",
       "number_of_reviews                 22\n",
       "calculated_host_listings_count    10\n",
       "availability_365                  35\n",
       "dtype: int64"
      ]
     },
     "execution_count": 21,
     "metadata": {},
     "output_type": "execute_result"
    }
   ],
   "source": [
    "# cross check\n",
    "df_nfc.isna().sum()"
   ]
  },
  {
   "cell_type": "code",
   "execution_count": 22,
   "metadata": {},
   "outputs": [
    {
     "data": {
      "text/plain": [
       "count    42436.000000\n",
       "mean         6.975328\n",
       "std         20.324644\n",
       "min          1.000000\n",
       "25%          1.000000\n",
       "50%          3.000000\n",
       "75%          5.000000\n",
       "max       1250.000000\n",
       "Name: minimum_nights, dtype: float64"
      ]
     },
     "execution_count": 22,
     "metadata": {},
     "output_type": "execute_result"
    }
   ],
   "source": [
    "df_nfc['minimum_nights'].describe()\n",
    "# based on the observation we shall impute with medium\n"
   ]
  },
  {
   "cell_type": "code",
   "execution_count": 23,
   "metadata": {},
   "outputs": [],
   "source": [
    "df_nfc['minimum_nights'] = df_nfc['minimum_nights'].fillna(df_nfc['minimum_nights'].median())"
   ]
  },
  {
   "cell_type": "code",
   "execution_count": 24,
   "metadata": {},
   "outputs": [
    {
     "data": {
      "text/plain": [
       "Unnamed: 0                         0\n",
       "id                                 0\n",
       "name                               0\n",
       "host_id                            0\n",
       "host_name                          0\n",
       "borough                            0\n",
       "neighbourhood                      0\n",
       "latitude                           0\n",
       "longitude                          0\n",
       "room_type                          0\n",
       "price                              0\n",
       "minimum_nights                     0\n",
       "number_of_reviews                 22\n",
       "calculated_host_listings_count    10\n",
       "availability_365                  35\n",
       "dtype: int64"
      ]
     },
     "execution_count": 24,
     "metadata": {},
     "output_type": "execute_result"
    }
   ],
   "source": [
    "# cross check\n",
    "df_nfc.isna().sum()"
   ]
  },
  {
   "cell_type": "code",
   "execution_count": 25,
   "metadata": {},
   "outputs": [
    {
     "data": {
      "text/plain": [
       "count    42436.000000\n",
       "mean        23.011877\n",
       "std         44.357978\n",
       "min          0.000000\n",
       "25%          1.000000\n",
       "50%          5.000000\n",
       "75%         23.000000\n",
       "max        629.000000\n",
       "Name: number_of_reviews, dtype: float64"
      ]
     },
     "execution_count": 25,
     "metadata": {},
     "output_type": "execute_result"
    }
   ],
   "source": [
    "df_nfc['number_of_reviews'].describe()"
   ]
  },
  {
   "cell_type": "code",
   "execution_count": 26,
   "metadata": {},
   "outputs": [],
   "source": [
    "df_nfc['number_of_reviews'] = df_nfc['number_of_reviews'].fillna(df_nfc['number_of_reviews'].median())"
   ]
  },
  {
   "cell_type": "code",
   "execution_count": 27,
   "metadata": {},
   "outputs": [
    {
     "data": {
      "text/plain": [
       "Unnamed: 0                         0\n",
       "id                                 0\n",
       "name                               0\n",
       "host_id                            0\n",
       "host_name                          0\n",
       "borough                            0\n",
       "neighbourhood                      0\n",
       "latitude                           0\n",
       "longitude                          0\n",
       "room_type                          0\n",
       "price                              0\n",
       "minimum_nights                     0\n",
       "number_of_reviews                  0\n",
       "calculated_host_listings_count    10\n",
       "availability_365                  35\n",
       "dtype: int64"
      ]
     },
     "execution_count": 27,
     "metadata": {},
     "output_type": "execute_result"
    }
   ],
   "source": [
    "# cross check\n",
    "df_nfc.isna().sum()"
   ]
  },
  {
   "cell_type": "code",
   "execution_count": 28,
   "metadata": {},
   "outputs": [
    {
     "data": {
      "text/plain": [
       "count    42448.000000\n",
       "mean         6.844704\n",
       "std         32.249686\n",
       "min          1.000000\n",
       "25%          1.000000\n",
       "50%          1.000000\n",
       "75%          2.000000\n",
       "max        327.000000\n",
       "Name: calculated_host_listings_count, dtype: float64"
      ]
     },
     "execution_count": 28,
     "metadata": {},
     "output_type": "execute_result"
    }
   ],
   "source": [
    "df_nfc['calculated_host_listings_count'].describe()"
   ]
  },
  {
   "cell_type": "code",
   "execution_count": 29,
   "metadata": {},
   "outputs": [],
   "source": [
    "df_nfc['calculated_host_listings_count'] = df_nfc['calculated_host_listings_count'].fillna(df_nfc['calculated_host_listings_count'].median())"
   ]
  },
  {
   "cell_type": "code",
   "execution_count": 30,
   "metadata": {},
   "outputs": [
    {
     "data": {
      "text/plain": [
       "Unnamed: 0                         0\n",
       "id                                 0\n",
       "name                               0\n",
       "host_id                            0\n",
       "host_name                          0\n",
       "borough                            0\n",
       "neighbourhood                      0\n",
       "latitude                           0\n",
       "longitude                          0\n",
       "room_type                          0\n",
       "price                              0\n",
       "minimum_nights                     0\n",
       "number_of_reviews                  0\n",
       "calculated_host_listings_count     0\n",
       "availability_365                  35\n",
       "dtype: int64"
      ]
     },
     "execution_count": 30,
     "metadata": {},
     "output_type": "execute_result"
    }
   ],
   "source": [
    "# cross check\n",
    "df_nfc.isna().sum()"
   ]
  },
  {
   "cell_type": "code",
   "execution_count": 31,
   "metadata": {},
   "outputs": [
    {
     "data": {
      "text/plain": [
       "count    42423.000000\n",
       "mean       111.517267\n",
       "std        131.348500\n",
       "min          0.000000\n",
       "25%          0.000000\n",
       "50%         42.000000\n",
       "75%        224.000000\n",
       "max        365.000000\n",
       "Name: availability_365, dtype: float64"
      ]
     },
     "execution_count": 31,
     "metadata": {},
     "output_type": "execute_result"
    }
   ],
   "source": [
    "df_nfc['availability_365'].describe()"
   ]
  },
  {
   "cell_type": "code",
   "execution_count": 32,
   "metadata": {},
   "outputs": [],
   "source": [
    "df_nfc['availability_365'] = df_nfc['availability_365'].fillna(df_nfc['availability_365'].mean())"
   ]
  },
  {
   "cell_type": "code",
   "execution_count": 33,
   "metadata": {},
   "outputs": [
    {
     "data": {
      "text/plain": [
       "Unnamed: 0                        0\n",
       "id                                0\n",
       "name                              0\n",
       "host_id                           0\n",
       "host_name                         0\n",
       "borough                           0\n",
       "neighbourhood                     0\n",
       "latitude                          0\n",
       "longitude                         0\n",
       "room_type                         0\n",
       "price                             0\n",
       "minimum_nights                    0\n",
       "number_of_reviews                 0\n",
       "calculated_host_listings_count    0\n",
       "availability_365                  0\n",
       "dtype: int64"
      ]
     },
     "execution_count": 33,
     "metadata": {},
     "output_type": "execute_result"
    }
   ],
   "source": [
    "# cross check\n",
    "df_nfc.isna().sum()"
   ]
  },
  {
   "cell_type": "markdown",
   "metadata": {},
   "source": [
    "### Sanity Checks"
   ]
  },
  {
   "cell_type": "code",
   "execution_count": 34,
   "metadata": {},
   "outputs": [
    {
     "data": {
      "text/plain": [
       "Unnamed: 0                          int64\n",
       "id                                  int64\n",
       "name                               object\n",
       "host_id                             int64\n",
       "host_name                          object\n",
       "borough                            object\n",
       "neighbourhood                      object\n",
       "latitude                          float64\n",
       "longitude                         float64\n",
       "room_type                          object\n",
       "price                             float64\n",
       "minimum_nights                    float64\n",
       "number_of_reviews                 float64\n",
       "calculated_host_listings_count    float64\n",
       "availability_365                  float64\n",
       "dtype: object"
      ]
     },
     "execution_count": 34,
     "metadata": {},
     "output_type": "execute_result"
    }
   ],
   "source": [
    "df_nfc.dtypes"
   ]
  },
  {
   "cell_type": "code",
   "execution_count": 35,
   "metadata": {},
   "outputs": [
    {
     "data": {
      "text/plain": [
       "Brooklyn         19275\n",
       "Manhattan        16905\n",
       "Queens            5165\n",
       "Bronx              690\n",
       "Staten Island      340\n",
       "Queen               63\n",
       "Brookly              9\n",
       "Manhatteen           5\n",
       "Manhattn             4\n",
       "Mahattan             2\n",
       "Name: borough, dtype: int64"
      ]
     },
     "execution_count": 35,
     "metadata": {},
     "output_type": "execute_result"
    }
   ],
   "source": [
    "df_nfc['borough'].value_counts()"
   ]
  },
  {
   "cell_type": "code",
   "execution_count": 36,
   "metadata": {},
   "outputs": [],
   "source": [
    "# correcting Manhattan 's name\n",
    "df_nfc['borough']= df_nfc['borough'].replace('Manhatteen','Manhattan')\n",
    "df_nfc['borough']= df_nfc['borough'].replace('Manhatteen ','Manhattan')\n",
    "df_nfc['borough']= df_nfc['borough'].replace('Manhattn','Manhattan')\n",
    "df_nfc['borough']= df_nfc['borough'].replace('Mahattan','Manhattan')"
   ]
  },
  {
   "cell_type": "code",
   "execution_count": 37,
   "metadata": {},
   "outputs": [
    {
     "data": {
      "text/plain": [
       "Brooklyn         19275\n",
       "Manhattan        16916\n",
       "Queens            5165\n",
       "Bronx              690\n",
       "Staten Island      340\n",
       "Queen               63\n",
       "Brookly              9\n",
       "Name: borough, dtype: int64"
      ]
     },
     "execution_count": 37,
     "metadata": {},
     "output_type": "execute_result"
    }
   ],
   "source": [
    "df_nfc['borough'].value_counts()"
   ]
  },
  {
   "cell_type": "code",
   "execution_count": 38,
   "metadata": {},
   "outputs": [],
   "source": [
    "df_nfc['borough'] = df_nfc['borough'].replace('Queen','Queens')\n",
    "df_nfc['borough'] = df_nfc['borough'].replace('Brookly','Brooklyn')"
   ]
  },
  {
   "cell_type": "code",
   "execution_count": 39,
   "metadata": {},
   "outputs": [
    {
     "data": {
      "text/plain": [
       "Brooklyn         19284\n",
       "Manhattan        16916\n",
       "Queens            5228\n",
       "Bronx              690\n",
       "Staten Island      340\n",
       "Name: borough, dtype: int64"
      ]
     },
     "execution_count": 39,
     "metadata": {},
     "output_type": "execute_result"
    }
   ],
   "source": [
    "df_nfc['borough'].value_counts()"
   ]
  },
  {
   "cell_type": "code",
   "execution_count": 40,
   "metadata": {},
   "outputs": [
    {
     "data": {
      "text/plain": [
       "Unnamed: 0                          int64\n",
       "id                                  int64\n",
       "name                               object\n",
       "host_id                             int64\n",
       "host_name                          object\n",
       "borough                            object\n",
       "neighbourhood                      object\n",
       "latitude                          float64\n",
       "longitude                         float64\n",
       "room_type                          object\n",
       "price                             float64\n",
       "minimum_nights                    float64\n",
       "number_of_reviews                 float64\n",
       "calculated_host_listings_count    float64\n",
       "availability_365                  float64\n",
       "dtype: object"
      ]
     },
     "execution_count": 40,
     "metadata": {},
     "output_type": "execute_result"
    }
   ],
   "source": [
    "df_nfc.dtypes"
   ]
  },
  {
   "cell_type": "code",
   "execution_count": 41,
   "metadata": {},
   "outputs": [
    {
     "data": {
      "text/plain": [
       "Entire home/apt    21769\n",
       "Private room       19739\n",
       "Shared room          950\n",
       "Name: room_type, dtype: int64"
      ]
     },
     "execution_count": 41,
     "metadata": {},
     "output_type": "execute_result"
    }
   ],
   "source": [
    "df_nfc['room_type'].value_counts()"
   ]
  },
  {
   "cell_type": "markdown",
   "metadata": {},
   "source": [
    "### Outlier Detection"
   ]
  },
  {
   "cell_type": "code",
   "execution_count": 42,
   "metadata": {},
   "outputs": [
    {
     "data": {
      "image/png": "[encoded data removed]",
      "text/plain": [
       "<Figure size 640x480 with 1 Axes>"
      ]
     },
     "metadata": {},
     "output_type": "display_data"
    }
   ],
   "source": [
    "# Price is the fundamental or the key aspect on which we need to focus to we should remove / reduce the outliers in it as it may skew the analysis\n",
    "sns.boxplot(df_nfc['price'])\n",
    "plt.show()\n",
    "# ???? ask this as a doubt\n",
    "# Too many outliers I think it is best to leave the outliers as they can provide us with a more accurate picture of the data"
   ]
  },
  {
   "cell_type": "code",
   "execution_count": 43,
   "metadata": {},
   "outputs": [
    {
     "data": {
      "text/plain": [
       "150.0     1774\n",
       "100.0     1767\n",
       "50.0      1401\n",
       "60.0      1348\n",
       "75.0      1213\n",
       "          ... \n",
       "1177.0       1\n",
       "573.0        1\n",
       "2695.0       1\n",
       "577.0        1\n",
       "421.0        1\n",
       "Name: price, Length: 633, dtype: int64"
      ]
     },
     "execution_count": 43,
     "metadata": {},
     "output_type": "execute_result"
    }
   ],
   "source": [
    "df_nfc['price'].value_counts()"
   ]
  },
  {
   "cell_type": "markdown",
   "metadata": {},
   "source": [
    "# In terms of insights \n",
    "1)Queens and Staten island and Bronx are cheaper with having most price lying in the range og 0 to 3000 .. \n",
    "2)Staten having the lowest\n",
    "3)Brooklyn and Manhattan have prices of all ranges"
   ]
  },
  {
   "cell_type": "code",
   "execution_count": 44,
   "metadata": {},
   "outputs": [
    {
     "data": {
      "image/png": "[encoded data removed]",
      "text/plain": [
       "<Figure size 640x480 with 1 Axes>"
      ]
     },
     "metadata": {},
     "output_type": "display_data"
    }
   ],
   "source": [
    "# chart to analysis the relation between neighbourhood, and price\n",
    "sns.scatterplot(data=df_nfc,x=df_nfc['borough'],y=df_nfc['price'])\n",
    "plt.show()"
   ]
  },
  {
   "cell_type": "code",
   "execution_count": 50,
   "metadata": {},
   "outputs": [],
   "source": [
    "df_nfc_neighbourhood = df_nfc.filter(['neighbourhood','price'])"
   ]
  },
  {
   "cell_type": "code",
   "execution_count": 59,
   "metadata": {},
   "outputs": [],
   "source": [
    "df_nfc_neighbourhood= df_nfc_neighbourhood.sort_values(by=['price'],ascending=False)"
   ]
  },
  {
   "cell_type": "code",
   "execution_count": 60,
   "metadata": {},
   "outputs": [],
   "source": [
    "df_nfc_10_neighbourhood = df_nfc_neighbourhood.head(10)"
   ]
  },
  {
   "cell_type": "code",
   "execution_count": 61,
   "metadata": {},
   "outputs": [
    {
     "data": {
      "image/png": "[encoded data removed]",
      "text/plain": [
       "<Figure size 640x480 with 1 Axes>"
      ]
     },
     "metadata": {},
     "output_type": "display_data"
    }
   ],
   "source": [
    "sns.barplot(data =df_nfc_10_neighbourhood,x='neighbourhood',y='price')\n",
    "plt.xticks(rotation=90)\n",
    "plt.show()"
   ]
  },
  {
   "cell_type": "markdown",
   "metadata": {},
   "source": [
    "### Inference\n",
    "Greenpoint , Upper West Side , Astoria amd Lower East Side are all tied up for the highest price charged"
   ]
  },
  {
   "cell_type": "code",
   "execution_count": 79,
   "metadata": {},
   "outputs": [],
   "source": [
    "# Host analysis\n",
    "top20_host = df_nfc['host_id'].value_counts()"
   ]
  },
  {
   "cell_type": "code",
   "execution_count": 80,
   "metadata": {},
   "outputs": [],
   "source": [
    "# data_of_top20_hosts= df_nfc[df_nfc['host_id'] in top20_host.index]"
   ]
  },
  {
   "cell_type": "code",
   "execution_count": 82,
   "metadata": {},
   "outputs": [],
   "source": [
    "# top 20 neighbourhoods by count or reoccuring the most\n",
    "top20_reoccuring_neighbourhoods = df_nfc['neighbourhood'].value_counts().head(20)"
   ]
  },
  {
   "cell_type": "code",
   "execution_count": 83,
   "metadata": {},
   "outputs": [
    {
     "data": {
      "text/plain": [
       "williamsburg          3897\n",
       "bedford-stuyvesant    3688\n",
       "harlem                2642\n",
       "bushwick              2453\n",
       "upper west side       1960\n",
       "east village          1845\n",
       "upper east side       1788\n",
       "crown heights         1559\n",
       "midtown               1539\n",
       "greenpoint            1106\n",
       "chelsea               1105\n",
       "lower east side        907\n",
       "astoria                898\n",
       "washington heights     896\n",
       "financial district     741\n",
       "flatbush               616\n",
       "clinton hill           569\n",
       "long island city       537\n",
       "park slope             501\n",
       "east flatbush          496\n",
       "Name: neighbourhood, dtype: int64"
      ]
     },
     "execution_count": 83,
     "metadata": {},
     "output_type": "execute_result"
    }
   ],
   "source": [
    "top20_reoccuring_neighbourhoods\n",
    "# williamsburg is the most rented out neighbourhood followed up by bedford-stuyvesant"
   ]
  },
  {
   "cell_type": "code",
   "execution_count": 90,
   "metadata": {},
   "outputs": [
    {
     "data": {
      "text/html": [
       "<div>\n",
       "<style scoped>\n",
       "    .dataframe tbody tr th:only-of-type {\n",
       "        vertical-align: middle;\n",
       "    }\n",
       "\n",
       "    .dataframe tbody tr th {\n",
       "        vertical-align: top;\n",
       "    }\n",
       "\n",
       "    .dataframe thead th {\n",
       "        text-align: right;\n",
       "    }\n",
       "</style>\n",
       "<table border=\"1\" class=\"dataframe\">\n",
       "  <thead>\n",
       "    <tr style=\"text-align: right;\">\n",
       "      <th></th>\n",
       "      <th>price</th>\n",
       "    </tr>\n",
       "    <tr>\n",
       "      <th>borough</th>\n",
       "      <th></th>\n",
       "    </tr>\n",
       "  </thead>\n",
       "  <tbody>\n",
       "    <tr>\n",
       "      <th>Bronx</th>\n",
       "      <td>87.415942</td>\n",
       "    </tr>\n",
       "    <tr>\n",
       "      <th>Brooklyn</th>\n",
       "      <td>124.263586</td>\n",
       "    </tr>\n",
       "    <tr>\n",
       "      <th>Manhattan</th>\n",
       "      <td>194.899917</td>\n",
       "    </tr>\n",
       "    <tr>\n",
       "      <th>Queens</th>\n",
       "      <td>99.400918</td>\n",
       "    </tr>\n",
       "    <tr>\n",
       "      <th>Staten Island</th>\n",
       "      <td>99.661765</td>\n",
       "    </tr>\n",
       "  </tbody>\n",
       "</table>\n",
       "</div>"
      ],
      "text/plain": [
       "                    price\n",
       "borough                  \n",
       "Bronx           87.415942\n",
       "Brooklyn       124.263586\n",
       "Manhattan      194.899917\n",
       "Queens          99.400918\n",
       "Staten Island   99.661765"
      ]
     },
     "execution_count": 90,
     "metadata": {},
     "output_type": "execute_result"
    }
   ],
   "source": [
    "# Borough vs Price\n",
    "pd.pivot_table(data=df_nfc,index=['borough'],values=['price'])\n",
    "\n",
    "# As expected Manhattan has the highest followed up by Brooklyn "
   ]
  },
  {
   "cell_type": "code",
   "execution_count": 92,
   "metadata": {},
   "outputs": [],
   "source": [
    "# Neighbourhood vs Price\n",
    "pivot_price_neigh = pd.pivot_table(data=df_nfc,index=['neighbourhood'],values=['price'])\n"
   ]
  },
  {
   "cell_type": "code",
   "execution_count": 97,
   "metadata": {},
   "outputs": [],
   "source": [
    "Top20_neighborhood_price_relation = pivot_price_neigh.sort_values(by=['price'],ascending=False).head(20)"
   ]
  },
  {
   "cell_type": "code",
   "execution_count": 99,
   "metadata": {},
   "outputs": [
    {
     "data": {
      "text/html": [
       "<div>\n",
       "<style scoped>\n",
       "    .dataframe tbody tr th:only-of-type {\n",
       "        vertical-align: middle;\n",
       "    }\n",
       "\n",
       "    .dataframe tbody tr th {\n",
       "        vertical-align: top;\n",
       "    }\n",
       "\n",
       "    .dataframe thead th {\n",
       "        text-align: right;\n",
       "    }\n",
       "</style>\n",
       "<table border=\"1\" class=\"dataframe\">\n",
       "  <thead>\n",
       "    <tr style=\"text-align: right;\">\n",
       "      <th></th>\n",
       "      <th>price</th>\n",
       "    </tr>\n",
       "    <tr>\n",
       "      <th>neighbourhood</th>\n",
       "      <th></th>\n",
       "    </tr>\n",
       "  </thead>\n",
       "  <tbody>\n",
       "    <tr>\n",
       "      <th>tribeca</th>\n",
       "      <td>492.760000</td>\n",
       "    </tr>\n",
       "    <tr>\n",
       "      <th>riverdale</th>\n",
       "      <td>442.090909</td>\n",
       "    </tr>\n",
       "    <tr>\n",
       "      <th>prince's bay</th>\n",
       "      <td>409.500000</td>\n",
       "    </tr>\n",
       "    <tr>\n",
       "      <th>flatiron district</th>\n",
       "      <td>344.217949</td>\n",
       "    </tr>\n",
       "    <tr>\n",
       "      <th>soho</th>\n",
       "      <td>287.103352</td>\n",
       "    </tr>\n",
       "    <tr>\n",
       "      <th>midtown</th>\n",
       "      <td>282.419103</td>\n",
       "    </tr>\n",
       "    <tr>\n",
       "      <th>neponsit</th>\n",
       "      <td>274.666667</td>\n",
       "    </tr>\n",
       "    <tr>\n",
       "      <th>greenwich village</th>\n",
       "      <td>264.061697</td>\n",
       "    </tr>\n",
       "    <tr>\n",
       "      <th>chelsea</th>\n",
       "      <td>250.335747</td>\n",
       "    </tr>\n",
       "    <tr>\n",
       "      <th>willowbrook</th>\n",
       "      <td>249.000000</td>\n",
       "    </tr>\n",
       "    <tr>\n",
       "      <th>financial district</th>\n",
       "      <td>225.797571</td>\n",
       "    </tr>\n",
       "    <tr>\n",
       "      <th>little italy</th>\n",
       "      <td>221.722689</td>\n",
       "    </tr>\n",
       "    <tr>\n",
       "      <th>murray hill</th>\n",
       "      <td>221.267635</td>\n",
       "    </tr>\n",
       "    <tr>\n",
       "      <th>gramercy</th>\n",
       "      <td>217.777448</td>\n",
       "    </tr>\n",
       "    <tr>\n",
       "      <th>cobble hill</th>\n",
       "      <td>213.428571</td>\n",
       "    </tr>\n",
       "    <tr>\n",
       "      <th>upper west side</th>\n",
       "      <td>211.122449</td>\n",
       "    </tr>\n",
       "    <tr>\n",
       "      <th>brooklyn heights</th>\n",
       "      <td>205.202614</td>\n",
       "    </tr>\n",
       "    <tr>\n",
       "      <th>kips bay</th>\n",
       "      <td>202.415778</td>\n",
       "    </tr>\n",
       "    <tr>\n",
       "      <th>civic center</th>\n",
       "      <td>194.725490</td>\n",
       "    </tr>\n",
       "    <tr>\n",
       "      <th>upper east side</th>\n",
       "      <td>189.162752</td>\n",
       "    </tr>\n",
       "  </tbody>\n",
       "</table>\n",
       "</div>"
      ],
      "text/plain": [
       "                         price\n",
       "neighbourhood                 \n",
       "tribeca             492.760000\n",
       "riverdale           442.090909\n",
       "prince's bay        409.500000\n",
       "flatiron district   344.217949\n",
       "soho                287.103352\n",
       "midtown             282.419103\n",
       "neponsit            274.666667\n",
       "greenwich village   264.061697\n",
       "chelsea             250.335747\n",
       "willowbrook         249.000000\n",
       "financial district  225.797571\n",
       "little italy        221.722689\n",
       "murray hill         221.267635\n",
       "gramercy            217.777448\n",
       "cobble hill         213.428571\n",
       "upper west side     211.122449\n",
       "brooklyn heights    205.202614\n",
       "kips bay            202.415778\n",
       "civic center        194.725490\n",
       "upper east side     189.162752"
      ]
     },
     "execution_count": 99,
     "metadata": {},
     "output_type": "execute_result"
    }
   ],
   "source": [
    "Top20_neighborhood_price_relation\n",
    "# inference tribeca , riverdale ,prince's bay\t are the highest "
   ]
  },
  {
   "cell_type": "code",
   "execution_count": 101,
   "metadata": {},
   "outputs": [
    {
     "data": {
      "text/plain": [
       "Entire home/apt    21769\n",
       "Private room       19739\n",
       "Shared room          950\n",
       "Name: room_type, dtype: int64"
      ]
     },
     "execution_count": 101,
     "metadata": {},
     "output_type": "execute_result"
    }
   ],
   "source": [
    "# Room type analsysis\n",
    "df_nfc['room_type'].value_counts()"
   ]
  },
  {
   "cell_type": "code",
   "execution_count": 103,
   "metadata": {},
   "outputs": [],
   "source": [
    "pivot_price_room = pd.pivot_table(data=df_nfc,index=['room_type'],values=['price'])"
   ]
  },
  {
   "cell_type": "code",
   "execution_count": 105,
   "metadata": {},
   "outputs": [
    {
     "data": {
      "text/html": [
       "<div>\n",
       "<style scoped>\n",
       "    .dataframe tbody tr th:only-of-type {\n",
       "        vertical-align: middle;\n",
       "    }\n",
       "\n",
       "    .dataframe tbody tr th {\n",
       "        vertical-align: top;\n",
       "    }\n",
       "\n",
       "    .dataframe thead th {\n",
       "        text-align: right;\n",
       "    }\n",
       "</style>\n",
       "<table border=\"1\" class=\"dataframe\">\n",
       "  <thead>\n",
       "    <tr style=\"text-align: right;\">\n",
       "      <th></th>\n",
       "      <th>price</th>\n",
       "    </tr>\n",
       "    <tr>\n",
       "      <th>room_type</th>\n",
       "      <th></th>\n",
       "    </tr>\n",
       "  </thead>\n",
       "  <tbody>\n",
       "    <tr>\n",
       "      <th>Entire home/apt</th>\n",
       "      <td>207.301576</td>\n",
       "    </tr>\n",
       "    <tr>\n",
       "      <th>Private room</th>\n",
       "      <td>87.610213</td>\n",
       "    </tr>\n",
       "    <tr>\n",
       "      <th>Shared room</th>\n",
       "      <td>68.431579</td>\n",
       "    </tr>\n",
       "  </tbody>\n",
       "</table>\n",
       "</div>"
      ],
      "text/plain": [
       "                      price\n",
       "room_type                  \n",
       "Entire home/apt  207.301576\n",
       "Private room      87.610213\n",
       "Shared room       68.431579"
      ]
     },
     "execution_count": 105,
     "metadata": {},
     "output_type": "execute_result"
    }
   ],
   "source": [
    "pivot_price_room\n",
    "# entire room is the most expensive which was as expected but in  private and shared the difference is relatively less"
   ]
  },
  {
   "cell_type": "markdown",
   "metadata": {},
   "source": [
    "### Exporting the CSV file \n"
   ]
  },
  {
   "cell_type": "code",
   "execution_count": 108,
   "metadata": {},
   "outputs": [],
   "source": [
    "df_nfc.to_csv('cleaned_nyc.csv')"
   ]
  },
  {
   "cell_type": "code",
   "execution_count": null,
   "metadata": {},
   "outputs": [],
   "source": []
  }
 ],
 "metadata": {
  "kernelspec": {
   "display_name": "Python 3.9.13 ('env': venv)",
   "language": "python",
   "name": "python3"
  },
  "language_info": {
   "codemirror_mode": {
    "name": "ipython",
    "version": 3
   },
   "file_extension": ".py",
   "mimetype": "text/x-python",
   "name": "python",
   "nbconvert_exporter": "python",
   "pygments_lexer": "ipython3",
   "version": "3.9.13"
  },
  "orig_nbformat": 4,
  "vscode": {
   "interpreter": {
    "hash": "8c7747c701bb262f555ca01c4d94de44f7e654536dbabdecf232194e0d7ce5ab"
   }
  }
 },
 "nbformat": 4,
 "nbformat_minor": 2
}
